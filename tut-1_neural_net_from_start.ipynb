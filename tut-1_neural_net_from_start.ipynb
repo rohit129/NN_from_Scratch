{
 "cells": [
  {
   "cell_type": "markdown",
   "id": "05076f4d",
   "metadata": {},
   "source": [
    "## Purpose: Neural Network construction starting from Perceptron to layered architecture"
   ]
  },
  {
   "cell_type": "markdown",
   "id": "d7fb9c91",
   "metadata": {},
   "source": [
    "## 1) Without using Numpy"
   ]
  },
  {
   "cell_type": "markdown",
   "id": "60f19d1e",
   "metadata": {},
   "source": [
    "### a) Single Neuron"
   ]
  },
  {
   "cell_type": "code",
   "execution_count": 96,
   "id": "08b59258",
   "metadata": {},
   "outputs": [
    {
     "data": {
      "text/html": [
       "<img src=\"./images/single_neuron.png\" width=\"400\" height=\"400\"/>"
      ],
      "text/plain": [
       "<IPython.core.display.Image object>"
      ]
     },
     "execution_count": 96,
     "metadata": {},
     "output_type": "execute_result"
    }
   ],
   "source": [
    "# To display the single neuron to be constructed\n",
    "from IPython.display import Image\n",
    "Image(url=\"./images/single_neuron.png\", width=400, height=400)"
   ]
  },
  {
   "cell_type": "code",
   "execution_count": 97,
   "id": "b44c6996",
   "metadata": {},
   "outputs": [],
   "source": [
    "inputs  = [1.0, 2.0, 3.0, 2.5]\n",
    "weights = [0.2, 0.8, -0.5, 1.0]\n",
    "bias = 2.0"
   ]
  },
  {
   "cell_type": "code",
   "execution_count": 98,
   "id": "4bc62d3a",
   "metadata": {},
   "outputs": [],
   "source": [
    "output = inputs[0]*weights[0] + inputs[1]*weights[1] + inputs[2]*weights[2] + inputs[3]*weights[3] + bias"
   ]
  },
  {
   "cell_type": "code",
   "execution_count": 99,
   "id": "36ffeb41",
   "metadata": {},
   "outputs": [
    {
     "name": "stdout",
     "output_type": "stream",
     "text": [
      "Result of the Single Neuron\n",
      "4.8\n"
     ]
    }
   ],
   "source": [
    "print(\"Result of the Single Neuron\")\n",
    "print(output)"
   ]
  },
  {
   "cell_type": "markdown",
   "id": "31bc6112",
   "metadata": {},
   "source": [
    "### b) Layer of neurons"
   ]
  },
  {
   "cell_type": "markdown",
   "id": "e881b9ca",
   "metadata": {},
   "source": [
    "#### First way\n",
    "Here each weights are written seperately in each variables"
   ]
  },
  {
   "cell_type": "code",
   "execution_count": 100,
   "id": "16ea96c5",
   "metadata": {},
   "outputs": [
    {
     "name": "stdout",
     "output_type": "stream",
     "text": [
      "Result of the Output Layer\n",
      "[4.8, 1.21, 2.385]\n"
     ]
    }
   ],
   "source": [
    "inputs = [ 1 , 2 , 3 , 2.5 ]\n",
    "weights1 = [ 0.2 , 0.8 , -0.5 , 1 ]\n",
    "weights2 = [ 0.5 , -0.91 , 0.26 , -0.5 ]\n",
    "weights3 = [ -0.26 , -0.27 , 0.17 , 0.87 ]\n",
    "bias1 = 2\n",
    "bias2 = 3\n",
    "bias3 = 0.5\n",
    "\n",
    "outputs = [\n",
    "\t# Neuron 1:\n",
    "\tinputs[ 0 ] * weights1[ 0 ] +\n",
    "\tinputs[ 1 ] * weights1[ 1 ] +\n",
    "\tinputs[ 2 ] * weights1[ 2 ] +\n",
    "\tinputs[ 3 ] * weights1[ 3 ] +\n",
    "\tbias1,\n",
    "\t\n",
    "\t# Neuron 2:\n",
    "\tinputs[ 0 ] * weights2[ 0 ] +\n",
    "\tinputs[ 1 ] * weights2[ 1 ] +\n",
    "\tinputs[ 2 ] * weights2[ 2 ] +\n",
    "\tinputs[ 3 ] * weights2[ 3 ] +\n",
    "\tbias2,\n",
    "\t\n",
    "\t# Neuron 3:\n",
    "\tinputs[ 0 ] * weights3[ 0 ] +\n",
    "\tinputs[ 1 ] * weights3[ 1 ] +\n",
    "\tinputs[ 2 ] * weights3[ 2 ] +\n",
    "\tinputs[ 3 ] * weights3[ 3 ] +\n",
    "\tbias3\n",
    "\t]\n",
    "print(\"Result of the Output Layer\")\n",
    "print (outputs)"
   ]
  },
  {
   "cell_type": "markdown",
   "id": "545ed0d6",
   "metadata": {},
   "source": [
    "#### Second way\n",
    "Here weights in form of list of lists way where list-1 is weight-1, etc"
   ]
  },
  {
   "cell_type": "code",
   "execution_count": 101,
   "id": "60016a55",
   "metadata": {},
   "outputs": [],
   "source": [
    "inputs = [ 1 , 2 , 3 , 2.5 ]\n",
    "weights = [[0.2, 0.8, -0.5, 1], [0.5, -0.91, 0.26, -0.5], [-0.26, -0.27, 0.17, 0.87] ]\n",
    "biases = [ 2 , 3 , 0.5 ]"
   ]
  },
  {
   "cell_type": "code",
   "execution_count": 102,
   "id": "5ede1dcf",
   "metadata": {},
   "outputs": [],
   "source": [
    "# Output of current layer\n",
    "layer_outputs = []"
   ]
  },
  {
   "cell_type": "code",
   "execution_count": 103,
   "id": "0167edb0",
   "metadata": {},
   "outputs": [
    {
     "name": "stdout",
     "output_type": "stream",
     "text": [
      "Result of the Output Layer\n",
      "[4.8, 1.21, 2.385]\n"
     ]
    }
   ],
   "source": [
    "# For each neuron\n",
    "for neuron_weights, neuron_bias in zip(weights, biases):\n",
    "    # zero the output of the given neuron\n",
    "    neuron_output = 0\n",
    "    for n_input, weight in zip(inputs, neuron_weights):\n",
    "        # Multiply the input and associated weight and add to neuron_output\n",
    "        neuron_output += n_input*weight\n",
    "    neuron_output += neuron_bias\n",
    "    # Append the neuron output to the Layer output\n",
    "    layer_outputs.append(neuron_output)\n",
    "\n",
    "print(\"Result of the Output Layer\")\n",
    "print(layer_outputs)"
   ]
  },
  {
   "cell_type": "markdown",
   "id": "97d6c64f",
   "metadata": {},
   "source": [
    "## Using Numpy"
   ]
  },
  {
   "cell_type": "markdown",
   "id": "400ccb08",
   "metadata": {},
   "source": [
    "### a) Single Neuron"
   ]
  },
  {
   "cell_type": "code",
   "execution_count": 104,
   "id": "0c993c15",
   "metadata": {
    "scrolled": true
   },
   "outputs": [
    {
     "name": "stdout",
     "output_type": "stream",
     "text": [
      "Result of Single Neuron\n",
      "4.8\n"
     ]
    }
   ],
   "source": [
    "import numpy as np\n",
    "\n",
    "inputs = [ 1.0 , 2.0 , 3.0 , 2.5 ]\n",
    "weights = [ 0.2 , 0.8 , -0.5 , 1.0 ]\n",
    "bias = 2.0\n",
    "\n",
    "outputs = np.dot(inputs, weights) + bias\n",
    "\n",
    "print(\"Result of Single Neuron\")\n",
    "print (outputs)"
   ]
  },
  {
   "cell_type": "markdown",
   "id": "d1b39a2a",
   "metadata": {},
   "source": [
    "### b) Input Layer and Multiple output neurons"
   ]
  },
  {
   "cell_type": "code",
   "execution_count": 105,
   "id": "2437f439",
   "metadata": {},
   "outputs": [
    {
     "name": "stdout",
     "output_type": "stream",
     "text": [
      "We shall be implementing the below Figure\n"
     ]
    },
    {
     "data": {
      "text/html": [
       "<img src=\"./images/input_output1.png\" width=\"600\" height=\"600\"/>"
      ],
      "text/plain": [
       "<IPython.core.display.Image object>"
      ]
     },
     "execution_count": 105,
     "metadata": {},
     "output_type": "execute_result"
    }
   ],
   "source": [
    "# To display the single neuron to be constructed\n",
    "print(\"We shall be implementing the below Figure\")\n",
    "\n",
    "from IPython.display import Image\n",
    "Image(url=\"./images/input_output1.png\", width=600, height=600)"
   ]
  },
  {
   "cell_type": "code",
   "execution_count": 106,
   "id": "0b2be401",
   "metadata": {},
   "outputs": [
    {
     "name": "stdout",
     "output_type": "stream",
     "text": [
      "The Result of output layer\n",
      "[6.3  0.46 3.69]\n"
     ]
    }
   ],
   "source": [
    "import numpy as np\n",
    "\n",
    "inputs = [ 1.0 , 2.0 , 3.0 , 4.0 ]\n",
    "weights = [[ 0.2 , 0.8 , -0.5 , 1 ],[ 0.5 , -0.91 , 0.26 , -0.5 ],[ -0.26 , -0.27 , 0.17 , 0.87 ]]\n",
    "biases = [ 2.0 , 3.0 , 0.5 ]\n",
    "\n",
    "layer_outputs = np.dot(inputs, np.array(weights).T) + biases\n",
    "print(\"The Result of output layer\")\n",
    "print (layer_outputs)"
   ]
  },
  {
   "cell_type": "code",
   "execution_count": 107,
   "id": "bcfff143",
   "metadata": {},
   "outputs": [
    {
     "data": {
      "text/plain": [
       "array([ 2.8  , -1.79 ,  1.885])"
      ]
     },
     "execution_count": 107,
     "metadata": {},
     "output_type": "execute_result"
    }
   ],
   "source": [
    "inputs = [ 1.0 , 2.0 , 3.0 , 2.5 ]\n",
    "np.dot(inputs, np.array(weights).T)"
   ]
  },
  {
   "cell_type": "markdown",
   "id": "6d5715a9",
   "metadata": {},
   "source": [
    "### c) Input batch and Multiple output neuron"
   ]
  },
  {
   "cell_type": "code",
   "execution_count": 108,
   "id": "358b0efb",
   "metadata": {},
   "outputs": [
    {
     "name": "stdout",
     "output_type": "stream",
     "text": [
      "We shall be implementing the below Figure\n"
     ]
    },
    {
     "data": {
      "text/html": [
       "<img src=\"./images/input_output2.png\" width=\"600\" height=\"600\"/>"
      ],
      "text/plain": [
       "<IPython.core.display.Image object>"
      ]
     },
     "execution_count": 108,
     "metadata": {},
     "output_type": "execute_result"
    }
   ],
   "source": [
    "# To display the single neuron to be constructed\n",
    "print(\"We shall be implementing the below Figure\")\n",
    "from IPython.display import Image\n",
    "Image(url=\"./images/input_output2.png\", width=600, height=600)"
   ]
  },
  {
   "cell_type": "code",
   "execution_count": 109,
   "id": "0363f389",
   "metadata": {
    "scrolled": false
   },
   "outputs": [
    {
     "name": "stdout",
     "output_type": "stream",
     "text": [
      "** inputs shape =  (3, 4)\n",
      "Here, \n",
      "3 are number of batches and \n",
      "4 are number of inputs in one batch\n",
      " \n",
      "** weights shape =  (3, 4)\n",
      "Here,\n",
      "3 are number of output nodes and \n",
      "4 are number of weights associated to one output node (i.e. it is equal to number of input in one batch)\n",
      "\n",
      "Hence, in order to multiply we need to Transpose weight matrix. \n",
      "\n",
      "** layer_output.shape =  (3, 3)\n",
      "where, \n",
      "3 indicates number of generated output batches (i.e. it is equal to number of input batches) and\n",
      "3 are number of output for one input batch from output layer\n",
      "\n",
      "** layer_output =  [[ 6.3   0.46  3.69]\n",
      " [12.3  -2.14  5.73]\n",
      " [18.3  -4.74  7.77]]\n"
     ]
    }
   ],
   "source": [
    "import numpy as np\n",
    "inputs = [[1.0, 2.0, 3.0, 4.0], [5.0, 6.0, 7.0, 8.0],[9.0, 10.0, 11.0, 12.0]]\n",
    "weights = [[ 0.2 , 0.8 , -0.5 , 1 ],[ 0.5 , -0.91 , 0.26 , -0.5 ],[ -0.26 , -0.27 , 0.17 , 0.87 ]]\n",
    "biases = [ 2.0 , 3.0 , 0.5 ]\n",
    "\n",
    "print(\"** inputs shape = \", np.array(inputs).shape)\n",
    "print(f\"Here, \\n{np.array(inputs).shape[0]} are number of batches and \\n{np.array(inputs).shape[1]} are number of inputs in one batch\\n \")\n",
    "\n",
    "print(\"** weights shape = \", np.array(weights).shape)\n",
    "print(f\"Here,\\n{np.array(weights).shape[0]} are number of output nodes and \\n{np.array(weights).shape[1]} are number of weights associated to one output node (i.e. it is equal to number of input in one batch)\\n\")\n",
    "\n",
    "print(\"Hence, in order to multiply we need to Transpose weight matrix. \\n\")\n",
    "\n",
    "layer_output = np.dot(inputs, np.array(weights).T) + biases\n",
    "\n",
    "print(\"** layer_output.shape = \", layer_output.shape)\n",
    "print(f\"where, \\n{layer_output.shape[0]} indicates number of generated output batches (i.e. it is equal to number of input batches) and\\n{layer_output.shape[1]} are number of output for one input batch from output layer\\n\")\n",
    "print(\"** layer_output = \", layer_output)"
   ]
  },
  {
   "cell_type": "markdown",
   "id": "7a0fce31",
   "metadata": {},
   "source": [
    "### Adding Hidden layers"
   ]
  },
  {
   "cell_type": "code",
   "execution_count": 110,
   "id": "856d2a5f",
   "metadata": {},
   "outputs": [
    {
     "name": "stdout",
     "output_type": "stream",
     "text": [
      "We shall be implementing the below Figure\n"
     ]
    },
    {
     "data": {
      "text/html": [
       "<img src=\"./images/input_hidden_output1.png\" width=\"750\" height=\"750\"/>"
      ],
      "text/plain": [
       "<IPython.core.display.Image object>"
      ]
     },
     "execution_count": 110,
     "metadata": {},
     "output_type": "execute_result"
    }
   ],
   "source": [
    "# To display the single neuron to be constructed\n",
    "print(\"We shall be implementing the below Figure\")\n",
    "from IPython.display import Image\n",
    "Image(url=\"./images/input_hidden_output1.png\", width=750, height=750)"
   ]
  },
  {
   "cell_type": "code",
   "execution_count": 111,
   "id": "5648561c",
   "metadata": {},
   "outputs": [
    {
     "name": "stdout",
     "output_type": "stream",
     "text": [
      "* inputs shape =  (3, 4)\n",
      "* weights1 shape =  (3, 4) \n",
      "\n",
      "** hidden_layer shape =  (3, 3)\n",
      "where, \n",
      "3 indicates number of generated hidden batches (i.e. it is equal to number of input batches) and\n",
      "3 are number of output for one input batch from hidden layer\n",
      "** weights2 shape =  (2, 3) \n",
      "\n",
      "*** output_layer shape =  (3, 2)\n",
      "output_layer =  [[ 2.829  6.964]\n",
      " [ 3.521  9.288]\n",
      " [ 4.213 11.612]]\n"
     ]
    }
   ],
   "source": [
    "import numpy as np\n",
    "\n",
    "inputs = [[1.0, 2.0, 3.0, 4.0], [5.0, 6.0, 7.0, 8.0],[9.0, 10.0, 11.0, 12.0]]\n",
    "\n",
    "# Hidden Layer-1\n",
    "weights1 = [[ 0.2 , 0.8 , -0.5 , 1 ],[ 0.5 , -0.91 , 0.26 , -0.5 ],[ -0.26 , -0.27 , 0.17 , 0.87 ]]\n",
    "biases1 = [ 2.0 , 3.0 , 0.5 ]\n",
    "\n",
    "# Output Layer\n",
    "weights2 = [[0.1, 0.2, 0.3], [0.4, 0.5, 0.6]]\n",
    "biases2  = [1.0 , 2.0]\n",
    "\n",
    "hidden_layer = np.dot(inputs, np.array(weights1).T) +biases1\n",
    "output_layer = np.dot(hidden_layer, np.array(weights2).T) +biases2\n",
    "\n",
    "print(\"* inputs shape = \", np.array(inputs).shape)\n",
    "print(\"* weights1 shape = \", np.array(weights).shape, \"\\n\")\n",
    "print(\"** hidden_layer shape = \", np.array(hidden_layer).shape)\n",
    "print(f\"where, \\n{hidden_layer.shape[0]} indicates number of generated hidden batches (i.e. it is equal to number of input batches) and\\n{hidden_layer.shape[1]} are number of output for one input batch from hidden layer\")\n",
    "print(\"** weights2 shape = \", np.array(weights2).shape, \"\\n\")\n",
    "print(\"*** output_layer shape = \", np.array(output_layer).shape)\n",
    "print(\"output_layer = \", output_layer)"
   ]
  },
  {
   "cell_type": "code",
   "execution_count": null,
   "id": "fbbea38e",
   "metadata": {},
   "outputs": [],
   "source": []
  }
 ],
 "metadata": {
  "kernelspec": {
   "display_name": "Python 3 (ipykernel)",
   "language": "python",
   "name": "python3"
  },
  "language_info": {
   "codemirror_mode": {
    "name": "ipython",
    "version": 3
   },
   "file_extension": ".py",
   "mimetype": "text/x-python",
   "name": "python",
   "nbconvert_exporter": "python",
   "pygments_lexer": "ipython3",
   "version": "3.9.7"
  }
 },
 "nbformat": 4,
 "nbformat_minor": 5
}
